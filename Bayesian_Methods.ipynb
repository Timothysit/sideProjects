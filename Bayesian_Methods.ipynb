{
 "cells": [
  {
   "cell_type": "markdown",
   "metadata": {},
   "source": [
    "# Gaussian Process\n",
    "\n",
    "These are notes on the book Bayesian Methods for Hackers. \n",
    "In some cases where I see an opportunity, I will replace the examples with my own data."
   ]
  },
  {
   "cell_type": "markdown",
   "metadata": {},
   "source": [
    "## Modeling sudden shifts in behaviour\n",
    "\n",
    "In the first example of his book, Cameron wanted to know ewhether the his daily number of text messages received changed over time. Since I don't keep track of my texts (and I am not as popular as he is), we will do that with the number of spikes observed over a 12 minute period. Taking 5 second time bins.  "
   ]
  },
  {
   "cell_type": "code",
   "execution_count": 1,
   "metadata": {},
   "outputs": [
    {
     "name": "stdout",
     "output_type": "stream",
     "text": [
      "Hello world\n"
     ]
    }
   ],
   "source": [
    "figsize(12.5, 3.5)\n",
    "count_data = # need to get my data into a good format ... \n",
    "plt.bar(np.arrange(n_count_data), count_data, color = '#348ABD')\n",
    "plt.xlabel(\"Time (5 seconds)\")\n",
    "plt.ylabel(\"Number of spikes observed\")\n",
    "plt.title(\"Did the spiking activity change over time?\")\n",
    "plt.xlim(0, n_count_data); "
   ]
  },
  {
   "cell_type": "markdown",
   "metadata": {},
   "source": [
    "Here I will try to explain in my own words what we are trying to analyse and how we are goint to do it: \n",
    "\n",
    "\n",
    "\n"
   ]
  },
  {
   "cell_type": "markdown",
   "metadata": {},
   "source": [
    "We then start getting to the Bayes buisness "
   ]
  },
  {
   "cell_type": "code",
   "execution_count": null,
   "metadata": {
    "collapsed": true
   },
   "outputs": [],
   "source": [
    "import pymc as pm \n"
   ]
  }
 ],
 "metadata": {
  "kernelspec": {
   "display_name": "Python 3",
   "language": "python",
   "name": "python3"
  },
  "language_info": {
   "codemirror_mode": {
    "name": "ipython",
    "version": 3
   },
   "file_extension": ".py",
   "mimetype": "text/x-python",
   "name": "python",
   "nbconvert_exporter": "python",
   "pygments_lexer": "ipython3",
   "version": "3.6.1"
  }
 },
 "nbformat": 4,
 "nbformat_minor": 2
}
